{
 "cells": [
  {
   "cell_type": "markdown",
   "id": "47781dd0",
   "metadata": {},
   "source": [
    "Q1. Create a python program to sort the given list of tuples based on integer value using a\n",
    "lambda function."
   ]
  },
  {
   "cell_type": "code",
   "execution_count": 5,
   "id": "8a6dfb6c",
   "metadata": {},
   "outputs": [
    {
     "name": "stdout",
     "output_type": "stream",
     "text": [
      "original list:[('Sachin Tendulkar', 34357), ('Ricky Ponting', 27483), ('Jack Kallis', 25534), ('Virat Kohli', 24936)]\n",
      "Sorted list:[('Virat Kohli', 24936), ('Jack Kallis', 25534), ('Ricky Ponting', 27483), ('Sachin Tendulkar', 34357)]\n"
     ]
    }
   ],
   "source": [
    "#Original list\n",
    "l = [('Sachin Tendulkar', 34357), ('Ricky Ponting', 27483), ('Jack Kallis', 25534), ('Virat Kohli', 24936)]\n",
    "#sorting the list\n",
    "l_ = sorted(l, key = lambda x:x[1])\n",
    "print(f\"original list:{l}\\nSorted list:{l_}\")"
   ]
  },
  {
   "cell_type": "markdown",
   "id": "d0f0e203",
   "metadata": {},
   "source": [
    "Q2. Write a Python Program to find the squares of all the numbers in the given list of integers using\n",
    "lambda and map functions."
   ]
  },
  {
   "cell_type": "code",
   "execution_count": 8,
   "id": "74cd9cd3",
   "metadata": {},
   "outputs": [
    {
     "name": "stdout",
     "output_type": "stream",
     "text": [
      "original list:[1, 2, 3, 4, 5, 6, 7, 8, 9, 10]\n",
      "Squared list:[1, 4, 9, 16, 25, 36, 49, 64, 81, 100]\n"
     ]
    }
   ],
   "source": [
    "#Original list\n",
    "l= [1, 2, 3, 4, 5, 6, 7, 8, 9, 10]\n",
    "#Squaring the elements of the list\n",
    "l_ = list(map(lambda a:a**2, l))\n",
    "print(f\"original list:{l}\\nSquared list:{l_}\")"
   ]
  },
  {
   "cell_type": "markdown",
   "id": "04703494",
   "metadata": {},
   "source": [
    "Q3. Write a python program to convert the given list of integers into a tuple of strings. Use map and\n",
    "lambda functions\n",
    "- Given String: [1, 2, 3, 4, 5, 6, 7, 8, 9, 10]\n",
    "- Expected output: ('1', '2', '3', '4', '5', '6', '7', '8', '9', '10')"
   ]
  },
  {
   "cell_type": "code",
   "execution_count": 12,
   "id": "3f4d8f57",
   "metadata": {},
   "outputs": [
    {
     "name": "stdout",
     "output_type": "stream",
     "text": [
      "original list:[1, 2, 3, 4, 5, 6, 7, 8, 9, 10]\n",
      "Str tuple:('1', '2', '3', '4', '5', '6', '7', '8', '9', '10')\n"
     ]
    }
   ],
   "source": [
    "#Original list\n",
    "l = [1,2,3,4,5,6,7,8,9,10]\n",
    "# Converting the list elements from int to str and storing in a tuple\n",
    "l_ = tuple(map(lambda a:str(a), l))\n",
    "print(f\"original list:{l}\\nStr tuple:{l_}\")"
   ]
  },
  {
   "cell_type": "markdown",
   "id": "f79c4da4",
   "metadata": {},
   "source": [
    "Q4. Write a python program using reduce function to compute the product of a list containing numbers\n",
    "from 1 to 25."
   ]
  },
  {
   "cell_type": "code",
   "execution_count": 16,
   "id": "fa903436",
   "metadata": {},
   "outputs": [
    {
     "name": "stdout",
     "output_type": "stream",
     "text": [
      "Original list:[1, 2, 3, 4, 5, 6, 7, 8, 9, 10, 11, 12, 13, 14, 15, 16, 17, 18, 19, 20, 21, 22, 23, 24, 25]\n",
      "Product of numbers in the given list:15511210043330985984000000\n"
     ]
    }
   ],
   "source": [
    "from functools import reduce\n",
    "#Original list\n",
    "l = list(range(1,26))\n",
    "#Computing the product of all the numbers in the given list\n",
    "l_ = reduce(lambda a,b:a*b, l)\n",
    "print(f\"Original list:{l}\\nProduct of numbers in the given list:{l_}\")"
   ]
  },
  {
   "cell_type": "markdown",
   "id": "3c3fef85",
   "metadata": {},
   "source": [
    "Q5. Write a python program to filter the numbers in a given list that are divisible by 2 and 3 using the\n",
    "filter function."
   ]
  },
  {
   "cell_type": "code",
   "execution_count": 19,
   "id": "25b36aff",
   "metadata": {},
   "outputs": [
    {
     "name": "stdout",
     "output_type": "stream",
     "text": [
      "Original list:[2, 3, 6, 9, 27, 60, 90, 120, 55, 46]\n",
      "Filtered list:[6, 60, 90, 120]\n"
     ]
    }
   ],
   "source": [
    "#Original list\n",
    "l = [2, 3, 6, 9, 27, 60, 90, 120, 55, 46]\n",
    "#Filtering the list according to the given criteria\n",
    "l_ = list(filter(lambda a:(a%2 == 0 and a%3 == 0), l))\n",
    "print(f\"Original list:{l}\\nFiltered list:{l_}\")"
   ]
  },
  {
   "cell_type": "markdown",
   "id": "cfaadb2c",
   "metadata": {},
   "source": [
    "Q6. Write a python program to find palindromes in the given list of strings using lambda and filter\n",
    "function."
   ]
  },
  {
   "cell_type": "code",
   "execution_count": 23,
   "id": "2528bd2b",
   "metadata": {},
   "outputs": [
    {
     "name": "stdout",
     "output_type": "stream",
     "text": [
      "Original list:['python', 'php', 'aba', 'radar', 'level']\n",
      "Filtered list:['php', 'aba', 'radar', 'level']\n"
     ]
    }
   ],
   "source": [
    "#Original list\n",
    "l = ['python', 'php', 'aba', 'radar', 'level']\n",
    "# Filtering according to the given criteria\n",
    "l_ = list(filter(lambda a: a == a[::-1], l))\n",
    "print(f\"Original list:{l}\\nFiltered list:{l_}\")"
   ]
  },
  {
   "cell_type": "code",
   "execution_count": null,
   "id": "d72624f6",
   "metadata": {},
   "outputs": [],
   "source": []
  }
 ],
 "metadata": {
  "kernelspec": {
   "display_name": "tf_test",
   "language": "python",
   "name": "tf_test"
  },
  "language_info": {
   "codemirror_mode": {
    "name": "ipython",
    "version": 3
   },
   "file_extension": ".py",
   "mimetype": "text/x-python",
   "name": "python",
   "nbconvert_exporter": "python",
   "pygments_lexer": "ipython3",
   "version": "3.6.13"
  }
 },
 "nbformat": 4,
 "nbformat_minor": 5
}
