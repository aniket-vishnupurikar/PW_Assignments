{
 "cells": [
  {
   "cell_type": "markdown",
   "id": "18b33543",
   "metadata": {},
   "source": [
    "Q1. How do you comment code in Python? What are the different types of comments?"
   ]
  },
  {
   "cell_type": "markdown",
   "id": "b6e48897",
   "metadata": {},
   "source": [
    "Answer:<br />\n",
    "There are three types of comments: single-line, multi-line, and docstring comments.<br />\n",
    "- (i) Single-line comments begin with the “#” character. Anything that is written in a single line after ‘#’ is considered as a comment. The syntax for writing single-line comments is: # COMMENT\n",
    "- (ii) Multi-line comments: Multi-line comments can be added by enclosing them in triple qoutes like this: \"\"\"COMMENT\"\"\" or by adding # at the start of each comment line like this:<br />#COMMENT1<br />#COMMENT2<br />#COMMENT3\n",
    "- (iii) Doc-string - Python provides an in-built feature called docstrings for commenting on modules, methods, functions, objects, and classes. They are written in the first line after defining a module, function, method, etc., using three quotation marks like this: <br />def myfunc():<br />    \"\"\"DOC STRING\"\"\""
   ]
  },
  {
   "cell_type": "markdown",
   "id": "1b5a38c1",
   "metadata": {},
   "source": [
    "Q2. What are variables in Python? How do you declare and assign values to variables?"
   ]
  },
  {
   "cell_type": "markdown",
   "id": "b4d0a115",
   "metadata": {},
   "source": [
    "Answer:<br />\n",
    "A variable is a string of characters and numbers associated with a piece of information. The assignment operator, denoted by the “=” symbol, is the operator that is used to assign values to variables in Python. The line x=1 takes the known value, 1, and assigns that value to the variable with name “x”. After executing this line, this number will be stored into this variable. Until the value is changed or the variable deleted, the character x behaves like the value 1."
   ]
  },
  {
   "cell_type": "code",
   "execution_count": 1,
   "id": "84b5de84",
   "metadata": {},
   "outputs": [
    {
     "name": "stdout",
     "output_type": "stream",
     "text": [
      "1\n"
     ]
    }
   ],
   "source": [
    "x = 1\n",
    "print(x)"
   ]
  },
  {
   "cell_type": "markdown",
   "id": "0f96ff29",
   "metadata": {},
   "source": [
    "Q3. How do you convert one data type to another in Python?"
   ]
  },
  {
   "cell_type": "markdown",
   "id": "86909fe1",
   "metadata": {},
   "source": [
    "Answer<br />To convert between two data types, we can use the type name as a function. There are several built-in functions to perform conversion from one data type to another. These functions return a new object representing the converted value."
   ]
  },
  {
   "cell_type": "code",
   "execution_count": 2,
   "id": "44babbd4",
   "metadata": {},
   "outputs": [
    {
     "name": "stdout",
     "output_type": "stream",
     "text": [
      "Data type of x before change:<class 'str'>\n",
      "Data type of x after change:<class 'int'>\n"
     ]
    }
   ],
   "source": [
    "x = \"5\"\n",
    "print(f\"Data type of x before change:{type(x)}\")\n",
    "x = int(x)\n",
    "print(f\"Data type of x after change:{type(x)}\")"
   ]
  },
  {
   "cell_type": "markdown",
   "id": "2514ae0f",
   "metadata": {},
   "source": [
    "As we see above before data type change, the data type of x was str after type casting the data type changed to int. One thing to note here is the value of the variable should be valid for resulting data type. For example following type casting would throw an error:\n"
   ]
  },
  {
   "cell_type": "code",
   "execution_count": 4,
   "id": "244de911",
   "metadata": {},
   "outputs": [
    {
     "name": "stdout",
     "output_type": "stream",
     "text": [
      "Data type of x before change:<class 'str'>\n",
      "invalid literal for int() with base 10: 'harry potter'\n"
     ]
    }
   ],
   "source": [
    "try:\n",
    "    x = \"harry potter\"\n",
    "    print(f\"Data type of x before change:{type(x)}\")\n",
    "    x = int(x)\n",
    "    print(f\"Data type of x after change:{type(x)}\")\n",
    "except Exception as e:\n",
    "    print(e)"
   ]
  },
  {
   "cell_type": "markdown",
   "id": "75fa1105",
   "metadata": {},
   "source": [
    "The error says invalid literal for int() with base 10: 'harry potter' i.e. \"harry potter\" can not be converted to an integer. Another example of type casting:\n"
   ]
  },
  {
   "cell_type": "code",
   "execution_count": 5,
   "id": "21b41d88",
   "metadata": {},
   "outputs": [
    {
     "name": "stdout",
     "output_type": "stream",
     "text": [
      "Data type of x before change:<class 'int'>\n",
      "Data type of x after change:<class 'str'>\n"
     ]
    }
   ],
   "source": [
    "x = 5\n",
    "print(f\"Data type of x before change:{type(x)}\")\n",
    "x = str(x)\n",
    "print(f\"Data type of x after change:{type(x)}\")"
   ]
  },
  {
   "cell_type": "markdown",
   "id": "7e331506",
   "metadata": {},
   "source": [
    "Q4. How do you write and execute a Python script from the command line?"
   ]
  },
  {
   "cell_type": "markdown",
   "id": "773eef1b",
   "metadata": {},
   "source": [
    "Answer:<br />"
   ]
  },
  {
   "cell_type": "markdown",
   "id": "a2fe8f1c",
   "metadata": {},
   "source": [
    "First create a python script with some python code and save it as afile with \".py\" extension. For example let us say we have a python script named \"MyCode.py\". Now open a command line interface and navigate to the location of the \"MyCode.py\" file and run the file with preceded by key-word \"python\" i.e. run it with this command: \"python MyCode.py\"."
   ]
  },
  {
   "cell_type": "markdown",
   "id": "a816ec2c",
   "metadata": {},
   "source": [
    "Q5. Given a list my_list = [1, 2, 3, 4, 5], write the code to slice the list and obtain the sub-list [2, 3]."
   ]
  },
  {
   "cell_type": "markdown",
   "id": "5134f697",
   "metadata": {},
   "source": [
    "Answer:"
   ]
  },
  {
   "cell_type": "code",
   "execution_count": 7,
   "id": "25831eda",
   "metadata": {},
   "outputs": [
    {
     "name": "stdout",
     "output_type": "stream",
     "text": [
      "Original list:[1, 2, 3, 4, 5]\n",
      "sub-list after slicing:[2, 3]\n"
     ]
    }
   ],
   "source": [
    "my_list = [1,2,3,4,5]\n",
    "sub_list = my_list[1:3]\n",
    "print(f\"Original list:{my_list}\")\n",
    "print(f\"sub-list after slicing:{sub_list}\")"
   ]
  },
  {
   "cell_type": "markdown",
   "id": "14da8aa8",
   "metadata": {},
   "source": [
    "Q6. What is a complex number in mathematics, and how is it represented in Python?"
   ]
  },
  {
   "cell_type": "markdown",
   "id": "497f5580",
   "metadata": {},
   "source": [
    "Answer:"
   ]
  },
  {
   "cell_type": "markdown",
   "id": "f2c75f32",
   "metadata": {},
   "source": [
    " Complex numbers are numbers created from two real numbers and an imaginary number. The imaginary number is squareroot of -1 and is denoted by j so if x is a real number and y is anther real number then you can create a complex number as (x + yj)."
   ]
  },
  {
   "cell_type": "markdown",
   "id": "32cbc0b9",
   "metadata": {},
   "source": [
    "In python you can use complex function to create a complex number. This unction takes two arguments which are the two real numbers x and y. An example is given below:"
   ]
  },
  {
   "cell_type": "code",
   "execution_count": 11,
   "id": "d67a0667",
   "metadata": {},
   "outputs": [
    {
     "name": "stdout",
     "output_type": "stream",
     "text": [
      "Complex number: (2+3j)\n",
      "type of z is: <class 'complex'>\n"
     ]
    }
   ],
   "source": [
    "z = complex(2, 3)\n",
    "print(\"Complex number:\", z)\n",
    "print(\"type of z is:\",type(z))"
   ]
  },
  {
   "cell_type": "markdown",
   "id": "c75e8390",
   "metadata": {},
   "source": [
    "Q7. What is the correct way to declare a variable named age and assign the value 25 to it?"
   ]
  },
  {
   "cell_type": "markdown",
   "id": "fccde482",
   "metadata": {},
   "source": [
    "Answer:"
   ]
  },
  {
   "cell_type": "code",
   "execution_count": 15,
   "id": "6c0b3d32",
   "metadata": {},
   "outputs": [
    {
     "name": "stdout",
     "output_type": "stream",
     "text": [
      "value of variable 'age' is:  25\n"
     ]
    }
   ],
   "source": [
    "# creating a variable \"age\" and assigning value 25 to it\n",
    "age = 25\n",
    "print(\"value of variable 'age' is: \",age)"
   ]
  },
  {
   "cell_type": "markdown",
   "id": "85972e28",
   "metadata": {},
   "source": [
    "Q8. Declare a variable named price and assign the value 9.99 to it. What data type does this variable\n",
    "belong to?"
   ]
  },
  {
   "cell_type": "markdown",
   "id": "a19b1c0b",
   "metadata": {},
   "source": [
    "Answer:"
   ]
  },
  {
   "cell_type": "code",
   "execution_count": 14,
   "id": "3cec9624",
   "metadata": {},
   "outputs": [
    {
     "name": "stdout",
     "output_type": "stream",
     "text": [
      "data type of 'price' is: <class 'float'>\n"
     ]
    }
   ],
   "source": [
    "# creating a variable \"price\" and assigning value 9.99 to it\n",
    "price = 9.99\n",
    "#checking the data type of \"price\"\n",
    "print(\"data type of 'price' is:\", type(price))\n"
   ]
  },
  {
   "cell_type": "markdown",
   "id": "d28ec473",
   "metadata": {},
   "source": [
    "Q9. Create a variable named name and assign your full name to it as a string. How would you print the\n",
    "value of this variable?"
   ]
  },
  {
   "cell_type": "markdown",
   "id": "4b6e2256",
   "metadata": {},
   "source": [
    "Answer:"
   ]
  },
  {
   "cell_type": "code",
   "execution_count": 16,
   "id": "b3dfc21b",
   "metadata": {},
   "outputs": [
    {
     "name": "stdout",
     "output_type": "stream",
     "text": [
      "value of 'name' is: aniket vishnupurikar\n"
     ]
    }
   ],
   "source": [
    "# creating a variable \"name\" and assigning my name to it\n",
    "name = \"aniket vishnupurikar\"\n",
    "#printing the value of \"name\"\n",
    "print(\"value of 'name' is:\", name)\n"
   ]
  },
  {
   "cell_type": "markdown",
   "id": "345b0a2a",
   "metadata": {},
   "source": [
    "Q10. Given the string \"Hello, World!\", extract the substring \"World\"."
   ]
  },
  {
   "cell_type": "markdown",
   "id": "1097c10e",
   "metadata": {},
   "source": [
    "Answer:"
   ]
  },
  {
   "cell_type": "code",
   "execution_count": 18,
   "id": "dbceda44",
   "metadata": {},
   "outputs": [
    {
     "name": "stdout",
     "output_type": "stream",
     "text": [
      "Original string: Hello, World!\n",
      "extracted string: World\n"
     ]
    }
   ],
   "source": [
    "#creating a variable s and assigning value \"Hello, World!\" to it\n",
    "s = \"Hello, World!\"\n",
    "print(\"Original string:\", s)\n",
    "#extracting \"World\" from s\n",
    "s_ = s[7:-1]\n",
    "print(\"extracted string:\",s_)"
   ]
  },
  {
   "cell_type": "markdown",
   "id": "e0671d36",
   "metadata": {},
   "source": [
    "Q11. Create a variable named \"is_student\" and assign it a boolean value indicating whether you are\n",
    "currently a student or not."
   ]
  },
  {
   "cell_type": "markdown",
   "id": "43833fb2",
   "metadata": {},
   "source": [
    "Answer:"
   ]
  },
  {
   "cell_type": "code",
   "execution_count": 20,
   "id": "6b9b0839",
   "metadata": {},
   "outputs": [
    {
     "name": "stdout",
     "output_type": "stream",
     "text": [
      "value of 'is_student' is:True\n",
      "The data type of 'is_student' is: <class 'bool'>\n"
     ]
    }
   ],
   "source": [
    "#creating a variable \"is_student\" and assigning it a boolean value\n",
    "is_student = True\n",
    "print(f\"value of 'is_student' is:{is_student}\\nThe data type of 'is_student' is: {type(is_student)}\")"
   ]
  }
 ],
 "metadata": {
  "kernelspec": {
   "display_name": "tf_test",
   "language": "python",
   "name": "tf_test"
  },
  "language_info": {
   "codemirror_mode": {
    "name": "ipython",
    "version": 3
   },
   "file_extension": ".py",
   "mimetype": "text/x-python",
   "name": "python",
   "nbconvert_exporter": "python",
   "pygments_lexer": "ipython3",
   "version": "3.6.13"
  }
 },
 "nbformat": 4,
 "nbformat_minor": 5
}
