{
 "cells": [
  {
   "cell_type": "markdown",
   "id": "7ad8e059",
   "metadata": {},
   "source": [
    "Q1. Create one variable containing following type of data:\n",
    "- (i) string\n",
    "- (ii) list\n",
    "- (iii) float\n",
    "- (iv) tuple"
   ]
  },
  {
   "cell_type": "markdown",
   "id": "ff62002a",
   "metadata": {},
   "source": [
    "ANSWER:"
   ]
  },
  {
   "cell_type": "code",
   "execution_count": 1,
   "id": "00011989",
   "metadata": {},
   "outputs": [],
   "source": [
    "#string\n",
    "s = \"james bond\"\n",
    "l = ['j', 'a', 'm', 'e', 's']\n",
    "f = 3.14\n",
    "t = (1,2,3,4)"
   ]
  },
  {
   "cell_type": "markdown",
   "id": "f0c1c658",
   "metadata": {},
   "source": [
    "Q2. Given are some following variables containing data:\n",
    "- (i) var1 = ‘ ‘\n",
    "- (ii) var2 = ‘[ DS , ML , Python]’\n",
    "- (iii) var3 = [ ‘DS’ , ’ML’ , ‘Python’ ]\n",
    "- (iv) var4 = 1.<br />\n",
    "What will be the data type of the above given variable."
   ]
  },
  {
   "cell_type": "markdown",
   "id": "97e87f61",
   "metadata": {},
   "source": [
    "Answer:\n",
    "- (i) var1 is string\n",
    "- (ii) var2 is str\n",
    "- (iii) var3 is list\n",
    "- (iv) var4 is int"
   ]
  },
  {
   "cell_type": "markdown",
   "id": "dfce7bf2",
   "metadata": {},
   "source": [
    "Q3. Explain the use of the following operators using an example:\n",
    "- (i) /\n",
    "- (ii) %\n",
    "- (iii) //\n",
    "- (iv) **"
   ]
  },
  {
   "cell_type": "markdown",
   "id": "d96d7b7a",
   "metadata": {},
   "source": [
    "Answer:"
   ]
  },
  {
   "cell_type": "markdown",
   "id": "6b054d20",
   "metadata": {},
   "source": [
    "- (i) / is division operator used to divide a number by another number.\n",
    "- example:\n"
   ]
  },
  {
   "cell_type": "code",
   "execution_count": 10,
   "id": "d964e6f6",
   "metadata": {},
   "outputs": [
    {
     "name": "stdout",
     "output_type": "stream",
     "text": [
      "10 divided by 5 is 2.0\n"
     ]
    }
   ],
   "source": [
    "a = 5\n",
    "b = 10\n",
    "c = b/a\n",
    "print(f\"{b} divided by {a} is {c}\")"
   ]
  },
  {
   "cell_type": "markdown",
   "id": "022d7eb1",
   "metadata": {},
   "source": [
    "- (ii) % is modulo operator used to get remainder after one number divides another\n",
    "- example:"
   ]
  },
  {
   "cell_type": "code",
   "execution_count": 11,
   "id": "c124b512",
   "metadata": {},
   "outputs": [
    {
     "name": "stdout",
     "output_type": "stream",
     "text": [
      "remainder after 5 divides 11 is 1\n"
     ]
    }
   ],
   "source": [
    "a = 11\n",
    "b = 5\n",
    "c = 11%5\n",
    "print(f\"remainder after {b} divides {a} is {c}\")"
   ]
  },
  {
   "cell_type": "markdown",
   "id": "f182e335",
   "metadata": {},
   "source": [
    "- (iii) // is floor division. This operator will divide the first number by the second and round the result down to the nearest whole number\n",
    "- example:"
   ]
  },
  {
   "cell_type": "code",
   "execution_count": 13,
   "id": "795cd576",
   "metadata": {},
   "outputs": [
    {
     "name": "stdout",
     "output_type": "stream",
     "text": [
      "reesult of floor division of 5 by 11 is 2\n"
     ]
    }
   ],
   "source": [
    "a = 11\n",
    "b = 5\n",
    "c = 11//5\n",
    "print(f\"reesult of floor division of {b} by {a} is {c}\")"
   ]
  },
  {
   "cell_type": "markdown",
   "id": "04fc096c",
   "metadata": {},
   "source": [
    "- (iv) ** is power operator\n",
    "- example:"
   ]
  },
  {
   "cell_type": "code",
   "execution_count": 17,
   "id": "867259ca",
   "metadata": {},
   "outputs": [
    {
     "name": "stdout",
     "output_type": "stream",
     "text": [
      "4 power 2 is 16\n"
     ]
    }
   ],
   "source": [
    "a = 4\n",
    "b = 2\n",
    "c = a**2\n",
    "print(f\"{a} power {b} is {c}\")"
   ]
  },
  {
   "cell_type": "markdown",
   "id": "f6485eef",
   "metadata": {},
   "source": [
    "Q4. Create a list of length 10 of your choice containing multiple types of data. Using for loop print the\n",
    "element and its data type."
   ]
  },
  {
   "cell_type": "code",
   "execution_count": 26,
   "id": "61acd019",
   "metadata": {},
   "outputs": [
    {
     "name": "stdout",
     "output_type": "stream",
     "text": [
      "3.14\n",
      "9.8\n",
      "3000000000.0\n",
      "james bond\n",
      "['nested', 'list']\n",
      "('tuple', 'inside', 'a', 'list')\n",
      "{'dictionary': 1}\n",
      "end\n",
      "of\n",
      "list\n",
      "****************************************************************************************************\n",
      "length of the list is 10\n"
     ]
    }
   ],
   "source": [
    "l = [3.14, 9.8, 3*10e8, \"james bond\", [\"nested\", \"list\"], (\"tuple\", \"inside\", \"a\", \"list\"), {\"dictionary\":1}, \"end\", \n",
    "     \"of\", \"list\"]\n",
    "for item in l:\n",
    "    print(item)\n",
    "print(\"*\"*100)\n",
    "print(f\"length of the list is {len(l)}\")"
   ]
  },
  {
   "cell_type": "markdown",
   "id": "665225fc",
   "metadata": {},
   "source": [
    "Q5. Using a while loop, verify if the number A is purely divisible by number B and if so then how many\n",
    "times it can be divisible."
   ]
  },
  {
   "cell_type": "code",
   "execution_count": 27,
   "id": "ccf240c2",
   "metadata": {},
   "outputs": [
    {
     "name": "stdout",
     "output_type": "stream",
     "text": [
      "b is divisible iteratively by a 10 times\n"
     ]
    }
   ],
   "source": [
    "b = 100\n",
    "a = 10\n",
    "cnt = 0\n",
    "while b>=a:\n",
    "    if b%a==0:\n",
    "        cnt+=1\n",
    "    b = b - 1\n",
    "print(f\"b is divisible iteratively by a {cnt} times\")"
   ]
  },
  {
   "cell_type": "markdown",
   "id": "2e260c6f",
   "metadata": {},
   "source": [
    "Q6. Create a list containing 25 int type data. Using for loop and if-else condition print if the element is\n",
    "divisible by 3 or not."
   ]
  },
  {
   "cell_type": "code",
   "execution_count": 28,
   "id": "f29dfb29",
   "metadata": {},
   "outputs": [
    {
     "name": "stdout",
     "output_type": "stream",
     "text": [
      "82 is divisible by 3\n",
      "23 is divisible by 3\n",
      "83 is divisible by 3\n",
      "22 is divisible by 3\n",
      "76 is divisible by 3\n",
      "67 is divisible by 3\n",
      "76 is divisible by 3\n",
      "23 is divisible by 3\n",
      "82 is divisible by 3\n",
      "2 is divisible by 3\n",
      "83 is divisible by 3\n",
      "53 is divisible by 3\n",
      "92 is divisible by 3\n",
      "23 is divisible by 3\n",
      "7 is divisible by 3\n",
      "14 is divisible by 3\n"
     ]
    }
   ],
   "source": [
    "import random\n",
    "l=[]\n",
    "n=25\n",
    "for i in range(n):\n",
    "    l.append(random.randint(1,100))\n",
    "\n",
    "cnt = 0\n",
    "for num in l:\n",
    "    if num % 3:\n",
    "        print(f\"{num} is divisible by 3\")"
   ]
  },
  {
   "cell_type": "markdown",
   "id": "b9cf3065",
   "metadata": {},
   "source": [
    "Q7. What do you understand about mutable and immutable data types? Give examples for both showing\n",
    "this property."
   ]
  },
  {
   "cell_type": "markdown",
   "id": "a4848ad8",
   "metadata": {},
   "source": [
    "Answer:"
   ]
  },
  {
   "cell_type": "markdown",
   "id": "40ed077c",
   "metadata": {},
   "source": [
    "Mutable objects are those that allow you to change their value or data in place without affecting the object’s identity. In contrast, immutable objects don’t allow this kind of operation. You’ll just have the option of creating new objects of the same type with different values. <br />\n",
    "As an example, list is mutable and tuple is immutable"
   ]
  },
  {
   "cell_type": "code",
   "execution_count": 30,
   "id": "535a2b2c",
   "metadata": {},
   "outputs": [
    {
     "name": "stdout",
     "output_type": "stream",
     "text": [
      "original list:[1, 2, 3, 4, 5]\n",
      "changed list: [1000, 2, 3, 4, 5]\n"
     ]
    }
   ],
   "source": [
    "l = [1,2,3,4,5]\n",
    "print(f\"original list:{l}\")\n",
    "l[0] = 1000\n",
    "print(f\"changed list: {l}\")"
   ]
  },
  {
   "cell_type": "code",
   "execution_count": 32,
   "id": "c9190cff",
   "metadata": {},
   "outputs": [
    {
     "name": "stdout",
     "output_type": "stream",
     "text": [
      "original tuple:(1, 2, 3, 4, 5)\n",
      "'tuple' object does not support item assignment\n"
     ]
    }
   ],
   "source": [
    "t = (1,2,3,4,5)\n",
    "print(f\"original tuple:{t}\")\n",
    "try:\n",
    "    t[0] = 1000\n",
    "except Exception as e:\n",
    "    print(e)"
   ]
  },
  {
   "cell_type": "markdown",
   "id": "42256b39",
   "metadata": {},
   "source": [
    "As seen above we can change list elements by assignment but we can not do the same for a tuple"
   ]
  },
  {
   "cell_type": "code",
   "execution_count": null,
   "id": "4b1cfe9f",
   "metadata": {},
   "outputs": [],
   "source": []
  }
 ],
 "metadata": {
  "kernelspec": {
   "display_name": "tf_test",
   "language": "python",
   "name": "tf_test"
  },
  "language_info": {
   "codemirror_mode": {
    "name": "ipython",
    "version": 3
   },
   "file_extension": ".py",
   "mimetype": "text/x-python",
   "name": "python",
   "nbconvert_exporter": "python",
   "pygments_lexer": "ipython3",
   "version": "3.6.13"
  }
 },
 "nbformat": 4,
 "nbformat_minor": 5
}
